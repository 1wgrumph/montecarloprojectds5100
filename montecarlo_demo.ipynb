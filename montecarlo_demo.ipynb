{
 "cells": [
  {
   "cell_type": "markdown",
   "id": "45762487-d33f-486d-8e38-2cdea04e3528",
   "metadata": {},
   "source": [
    "# Final Project Report\n",
    "\n",
    "* Class: DS 5100\n",
    "* Student Name:William Rumph \n",
    "* Student Net ID:usp7bf\n",
    "* This URL: (https://github.com/1wgrumph/montecarloprojectds5100)"
   ]
  },
  {
   "cell_type": "markdown",
   "id": "acf756c1-ecaa-41dc-b6ca-d566eb94560b",
   "metadata": {},
   "source": [
    "# Instructions\n",
    "\n",
    "Follow the instructions in the Final Project isntructions notebook and put evidence of your work in this notebook.\n",
    "\n",
    "Total points for each subsection under **Deliverables** and **Scenarios** are given in parentheses.\n",
    "\n",
    "Breakdowns of points within subsections are specified within subsection instructions as bulleted lists.\n",
    "\n",
    "This project is worth **50 points**."
   ]
  },
  {
   "cell_type": "markdown",
   "id": "89dc7a32-f682-4402-8c1e-b6ccdb3e0e39",
   "metadata": {},
   "source": [
    "# Deliverables"
   ]
  },
  {
   "cell_type": "markdown",
   "id": "d32cb273-9a40-4909-a7ce-51f6e4958d3c",
   "metadata": {},
   "source": [
    "## The Monte Carlo Module (10)\n",
    "\n",
    "- URL included, appropriately named (1).\n",
    "- Includes all three specified classes (3).\n",
    "- Includes at least all 12 specified methods (6; .5 each)."
   ]
  },
  {
   "cell_type": "markdown",
   "id": "f5f3b070-de9e-4de9-bfae-8974d184aa28",
   "metadata": {},
   "source": [
    "Put the URL to your GitHub repo here.\n",
    "\n",
    "Repo URL: https://github.com/1wgrumph/montecarloprojectds5100"
   ]
  },
  {
   "cell_type": "markdown",
   "id": "162370fb-3729-4c85-b040-8c25b2c966d2",
   "metadata": {},
   "source": [
    "Paste a copy of your module here.\n",
    "\n",
    "NOTE: Paste as text, not as code. Use triple backticks to wrap your code blocks."
   ]
  },
  {
   "cell_type": "code",
   "execution_count": 1,
   "id": "a0743efc-a785-4b5c-a9e6-b65d4507a67f",
   "metadata": {
    "tags": []
   },
   "outputs": [
    {
     "data": {
      "text/plain": [
       "'import numpy as np\\nimport pandas as pd\\n\\n\\nclass Die:\\n    \"\"\"\\n    A class representing a die with customizable faces and weights.\\n    \"\"\"\\n\\n    def __init__(self, faces):\\n        \"\"\"\\n        Initialize the die with unique faces and default weights of 1.0.\\n\\n        :param faces: A list or array of unique faces.\\n        \"\"\"\\n        self.faces = np.array(faces)\\n        self.weights = np.ones(len(faces), dtype=float)\\n        self._die_df = pd.DataFrame({\\'Face\\': self.faces, \\'Weight\\': self.weights})\\n\\n    def change_weight(self, face, new_weight):\\n        \"\"\"\\n        Change the weight of a specific face.\\n\\n        :param face: The face of the die to update.\\n        :param new_weight: The new weight (must be numeric).\\n        \"\"\"\\n        if face not in self.faces:\\n            raise ValueError(\"Face not found in die.\")\\n        if not isinstance(new_weight, (int, float)):\\n            raise ValueError(\"Weight must be a numeric value.\")\\n        self._die_df.loc[self._die_df[\\'Face\\'] == face, \\'Weight\\'] = float(new_weight)\\n\\n    def roll(self, n_rolls=1):\\n        \"\"\"\\n        Roll the die n times.\\n\\n        :param n_rolls: The number of rolls.\\n        :return: A list of outcomes.\\n        \"\"\"\\n        return self._die_df[\\'Face\\'].sample(n=n_rolls, weights=self._die_df[\\'Weight\\'], replace=True).tolist()\\n\\n    def show(self):\\n        \"\"\"\\n        Show the current state of the die.\\n\\n        :return: A DataFrame showing faces and weights.\\n        \"\"\"\\n        return self._die_df.copy()\\n\\n\\nclass Game:\\n    \"\"\"\\n    A class representing a game involving one or more dice.\\n    \"\"\"\\n\\n    def __init__(self, dice):\\n        \"\"\"\\n        Initialize the game with a list of dice.\\n\\n        :param dice: A list of Die objects.\\n        \"\"\"\\n        if not all(isinstance(die, Die) for die in dice):\\n            raise ValueError(\"All elements must be instances of the Die class.\")\\n        self.dice = dice\\n        self._results = None\\n\\n    def play(self, n_rolls):\\n        \"\"\"\\n        Play the game by rolling all dice n times.\\n\\n        :param n_rolls: The number of rolls.\\n        \"\"\"\\n        results = {f\"Die {i+1}\": die.roll(n_rolls) for i, die in enumerate(self.dice)}\\n        self._results = pd.DataFrame(results)\\n\\n    def show(self, form=\"wide\"):\\n        \"\"\"\\n        Show the results of the most recent game.\\n\\n        :param form: \"wide\" for wide format, \"narrow\" for narrow format.\\n        :return: A DataFrame of results.\\n        \"\"\"\\n        if self._results is None:\\n            raise ValueError(\"No results available. Play the game first.\")\\n        if form == \"wide\":\\n            return self._results\\n        elif form == \"narrow\":\\n            return self._results.melt(var_name=\"Die\", value_name=\"Outcome\")\\n        else:\\n            raise ValueError(\"Form must be \\'wide\\' or \\'narrow\\'.\")\\n\\n\\nclass Analyzer:\\n    \"\"\"\\n    A class for analyzing the results of a game.\\n    \"\"\"\\n\\n    def __init__(self, game):\\n        \"\"\"\\n        Initialize the analyzer with a game object.\\n\\n        :param game: A Game object.\\n        \"\"\"\\n        if not isinstance(game, Game):\\n            raise ValueError(\"Input must be an instance of the Game class.\")\\n        self.game = game\\n        self.results = game.show(\"wide\")\\n\\n    def jackpot(self):\\n        \"\"\"\\n        Count how many rolls resulted in all dice showing the same face.\\n\\n        :return: An integer count of jackpots.\\n        \"\"\"\\n        return (self.results.nunique(axis=1) == 1).sum()\\n\\n    def face_counts_per_roll(self):\\n        \"\"\"\\n        Count the occurrences of each face in each roll.\\n\\n        :return: A DataFrame of face counts.\\n        \"\"\"\\n        return self.results.apply(pd.Series.value_counts, axis=1).fillna(0).astype(int)\\n\\n    def combo_count(self):\\n        \"\"\"\\n        Count distinct combinations of faces rolled.\\n\\n        :return: A DataFrame of combinations and their counts.\\n        \"\"\"\\n        combos = self.results.apply(lambda x: tuple(sorted(x)), axis=1)\\n        return combos.value_counts().reset_index(name=\"Count\").rename(columns={\"index\": \"Combination\"})\\n\\n    def permutation_count(self):\\n        \"\"\"\\n        Count distinct permutations of faces rolled.\\n\\n        :return: A DataFrame of permutations and their counts.\\n        \"\"\"\\n        perms = self.results.apply(tuple, axis=1)\\n        return perms.value_counts().reset_index(name=\"Count\").rename(columns={\"index\": \"Permutation\"})\\n\\n    def valid_words(self, scrabble_words_file):\\n        \"\"\"\\n        Count valid Scrabble words formed by letter permutations.\\n\\n        :param scrabble_words_file: Path to the Scrabble words file.\\n        :return: A DataFrame of valid words and their counts.\\n        \"\"\"\\n        # Load valid words\\n        with open(scrabble_words_file, \\'r\\') as file:\\n            valid_words = set(word.strip().upper() for word in file.readlines())\\n\\n        # Check permutations\\n        def find_valid_words(row):\\n            return [word for word in set(row) if word in valid_words]\\n\\n        permutations = self.results.apply(tuple, axis=1)\\n        valid = permutations.apply(find_valid_words).explode()\\n        return valid.value_counts().reset_index(name=\"Count\").rename(columns={\"index\": \"Valid Word\"})\\n\\n\\n# Example: Loading `english_letters.txt` and creating a weighted alphabet die\\ndef load_alphabet_die(file_path):\\n    \"\"\"\\n    Create a Die instance for the English alphabet weighted by letter frequency.\\n\\n    :param file_path: Path to the `english_letters.txt` file.\\n    :return: A Die object.\\n    \"\"\"\\n    letter_weights = pd.read_csv(file_path, sep=\" \", header=None, names=[\"Letter\", \"Frequency\"])\\n    letter_weights[\"Weight\"] = letter_weights[\"Frequency\"] / letter_weights[\"Frequency\"].sum()\\n    alphabet_die = Die(letter_weights[\"Letter\"].values)\\n    for letter, weight in zip(letter_weights[\"Letter\"], letter_weights[\"Weight\"]):\\n        alphabet_die.change_weight(letter, weight)\\n    return alphabet_die\\n'"
      ]
     },
     "execution_count": 1,
     "metadata": {},
     "output_type": "execute_result"
    }
   ],
   "source": [
    "'''import numpy as np\n",
    "import pandas as pd\n",
    "\n",
    "\n",
    "class Die:\n",
    "    \"\"\"\n",
    "    A class representing a die with customizable faces and weights.\n",
    "    \"\"\"\n",
    "\n",
    "    def __init__(self, faces):\n",
    "        \"\"\"\n",
    "        Initialize the die with unique faces and default weights of 1.0.\n",
    "\n",
    "        :param faces: A list or array of unique faces.\n",
    "        \"\"\"\n",
    "        self.faces = np.array(faces)\n",
    "        self.weights = np.ones(len(faces), dtype=float)\n",
    "        self._die_df = pd.DataFrame({'Face': self.faces, 'Weight': self.weights})\n",
    "\n",
    "    def change_weight(self, face, new_weight):\n",
    "        \"\"\"\n",
    "        Change the weight of a specific face.\n",
    "\n",
    "        :param face: The face of the die to update.\n",
    "        :param new_weight: The new weight (must be numeric).\n",
    "        \"\"\"\n",
    "        if face not in self.faces:\n",
    "            raise ValueError(\"Face not found in die.\")\n",
    "        if not isinstance(new_weight, (int, float)):\n",
    "            raise ValueError(\"Weight must be a numeric value.\")\n",
    "        self._die_df.loc[self._die_df['Face'] == face, 'Weight'] = float(new_weight)\n",
    "\n",
    "    def roll(self, n_rolls=1):\n",
    "        \"\"\"\n",
    "        Roll the die n times.\n",
    "\n",
    "        :param n_rolls: The number of rolls.\n",
    "        :return: A list of outcomes.\n",
    "        \"\"\"\n",
    "        return self._die_df['Face'].sample(n=n_rolls, weights=self._die_df['Weight'], replace=True).tolist()\n",
    "\n",
    "    def show(self):\n",
    "        \"\"\"\n",
    "        Show the current state of the die.\n",
    "\n",
    "        :return: A DataFrame showing faces and weights.\n",
    "        \"\"\"\n",
    "        return self._die_df.copy()\n",
    "\n",
    "\n",
    "class Game:\n",
    "    \"\"\"\n",
    "    A class representing a game involving one or more dice.\n",
    "    \"\"\"\n",
    "\n",
    "    def __init__(self, dice):\n",
    "        \"\"\"\n",
    "        Initialize the game with a list of dice.\n",
    "\n",
    "        :param dice: A list of Die objects.\n",
    "        \"\"\"\n",
    "        if not all(isinstance(die, Die) for die in dice):\n",
    "            raise ValueError(\"All elements must be instances of the Die class.\")\n",
    "        self.dice = dice\n",
    "        self._results = None\n",
    "\n",
    "    def play(self, n_rolls):\n",
    "        \"\"\"\n",
    "        Play the game by rolling all dice n times.\n",
    "\n",
    "        :param n_rolls: The number of rolls.\n",
    "        \"\"\"\n",
    "        results = {f\"Die {i+1}\": die.roll(n_rolls) for i, die in enumerate(self.dice)}\n",
    "        self._results = pd.DataFrame(results)\n",
    "\n",
    "    def show(self, form=\"wide\"):\n",
    "        \"\"\"\n",
    "        Show the results of the most recent game.\n",
    "\n",
    "        :param form: \"wide\" for wide format, \"narrow\" for narrow format.\n",
    "        :return: A DataFrame of results.\n",
    "        \"\"\"\n",
    "        if self._results is None:\n",
    "            raise ValueError(\"No results available. Play the game first.\")\n",
    "        if form == \"wide\":\n",
    "            return self._results\n",
    "        elif form == \"narrow\":\n",
    "            return self._results.melt(var_name=\"Die\", value_name=\"Outcome\")\n",
    "        else:\n",
    "            raise ValueError(\"Form must be 'wide' or 'narrow'.\")\n",
    "\n",
    "\n",
    "class Analyzer:\n",
    "    \"\"\"\n",
    "    A class for analyzing the results of a game.\n",
    "    \"\"\"\n",
    "\n",
    "    def __init__(self, game):\n",
    "        \"\"\"\n",
    "        Initialize the analyzer with a game object.\n",
    "\n",
    "        :param game: A Game object.\n",
    "        \"\"\"\n",
    "        if not isinstance(game, Game):\n",
    "            raise ValueError(\"Input must be an instance of the Game class.\")\n",
    "        self.game = game\n",
    "        self.results = game.show(\"wide\")\n",
    "\n",
    "    def jackpot(self):\n",
    "        \"\"\"\n",
    "        Count how many rolls resulted in all dice showing the same face.\n",
    "\n",
    "        :return: An integer count of jackpots.\n",
    "        \"\"\"\n",
    "        return (self.results.nunique(axis=1) == 1).sum()\n",
    "\n",
    "    def face_counts_per_roll(self):\n",
    "        \"\"\"\n",
    "        Count the occurrences of each face in each roll.\n",
    "\n",
    "        :return: A DataFrame of face counts.\n",
    "        \"\"\"\n",
    "        return self.results.apply(pd.Series.value_counts, axis=1).fillna(0).astype(int)\n",
    "\n",
    "    def combo_count(self):\n",
    "        \"\"\"\n",
    "        Count distinct combinations of faces rolled.\n",
    "\n",
    "        :return: A DataFrame of combinations and their counts.\n",
    "        \"\"\"\n",
    "        combos = self.results.apply(lambda x: tuple(sorted(x)), axis=1)\n",
    "        return combos.value_counts().reset_index(name=\"Count\").rename(columns={\"index\": \"Combination\"})\n",
    "\n",
    "    def permutation_count(self):\n",
    "        \"\"\"\n",
    "        Count distinct permutations of faces rolled.\n",
    "\n",
    "        :return: A DataFrame of permutations and their counts.\n",
    "        \"\"\"\n",
    "        perms = self.results.apply(tuple, axis=1)\n",
    "        return perms.value_counts().reset_index(name=\"Count\").rename(columns={\"index\": \"Permutation\"})\n",
    "\n",
    "    def valid_words(self, scrabble_words_file):\n",
    "        \"\"\"\n",
    "        Count valid Scrabble words formed by letter permutations.\n",
    "\n",
    "        :param scrabble_words_file: Path to the Scrabble words file.\n",
    "        :return: A DataFrame of valid words and their counts.\n",
    "        \"\"\"\n",
    "        # Load valid words\n",
    "        with open(scrabble_words_file, 'r') as file:\n",
    "            valid_words = set(word.strip().upper() for word in file.readlines())\n",
    "\n",
    "        # Check permutations\n",
    "        def find_valid_words(row):\n",
    "            return [word for word in set(row) if word in valid_words]\n",
    "\n",
    "        permutations = self.results.apply(tuple, axis=1)\n",
    "        valid = permutations.apply(find_valid_words).explode()\n",
    "        return valid.value_counts().reset_index(name=\"Count\").rename(columns={\"index\": \"Valid Word\"})\n",
    "\n",
    "\n",
    "# Example: Loading `english_letters.txt` and creating a weighted alphabet die\n",
    "def load_alphabet_die(file_path):\n",
    "    \"\"\"\n",
    "    Create a Die instance for the English alphabet weighted by letter frequency.\n",
    "\n",
    "    :param file_path: Path to the `english_letters.txt` file.\n",
    "    :return: A Die object.\n",
    "    \"\"\"\n",
    "    letter_weights = pd.read_csv(file_path, sep=\" \", header=None, names=[\"Letter\", \"Frequency\"])\n",
    "    letter_weights[\"Weight\"] = letter_weights[\"Frequency\"] / letter_weights[\"Frequency\"].sum()\n",
    "    alphabet_die = Die(letter_weights[\"Letter\"].values)\n",
    "    for letter, weight in zip(letter_weights[\"Letter\"], letter_weights[\"Weight\"]):\n",
    "        alphabet_die.change_weight(letter, weight)\n",
    "    return alphabet_die\n",
    "'''"
   ]
  },
  {
   "cell_type": "markdown",
   "id": "6377727a-8f0a-491e-9f1c-d9dc225edd35",
   "metadata": {},
   "source": [
    "## Unitest Module (2)\n",
    "\n",
    "Paste a copy of your test module below.\n",
    "\n",
    "NOTE: Paste as text, not as code. Use triple backticks to wrap your code blocks.\n",
    "\n",
    "- All methods have at least one test method (1).\n",
    "- Each method employs one of Unittest's Assert methods (1)."
   ]
  },
  {
   "cell_type": "code",
   "execution_count": 2,
   "id": "14b878d8-258b-4cf2-ad88-b8ee90d43977",
   "metadata": {
    "tags": []
   },
   "outputs": [
    {
     "data": {
      "text/plain": [
       "'# A code block with your test code.\\n\\nimport unittest\\nimport pandas as pd\\nimport numpy as np\\nfrom montecarlo import Die, Game, Analyzer, load_alphabet_die\\n\\n\\nclass TestDie(unittest.TestCase):\\n\\n    def setUp(self):\\n        self.die = Die([\\'A\\', \\'B\\', \\'C\\'])\\n\\n    def test_initial_weights(self):\\n        self.assertTrue((self.die._die_df[\\'Weight\\'] == 1.0).all())\\n        print(\"TestDie: test_initial_weights passed\")\\n\\n    def test_change_weight(self):\\n        self.die.change_weight(\\'A\\', 2.5)\\n        self.assertEqual(self.die._die_df.loc[self.die._die_df[\\'Face\\'] == \\'A\\', \\'Weight\\'].values[0], 2.5)\\n        print(\"TestDie: test_change_weight passed\")\\n\\n    def test_invalid_weight_change(self):\\n        with self.assertRaises(ValueError):\\n            self.die.change_weight(\\'D\\', 2.0)\\n        print(\"TestDie: test_invalid_weight_change passed\")\\n\\n    def test_roll(self):\\n        rolls = self.die.roll(5)\\n        self.assertEqual(len(rolls), 5)\\n        self.assertTrue(set(rolls).issubset({\\'A\\', \\'B\\', \\'C\\'}))\\n        print(\"TestDie: test_roll passed\")\\n\\n    def test_show(self):\\n        df = self.die.show()\\n        self.assertIsInstance(df, pd.DataFrame)\\n        self.assertEqual(len(df), 3)\\n        print(\"TestDie: test_show passed\")\\n\\n\\nclass TestGame(unittest.TestCase):\\n\\n    def setUp(self):\\n        self.dice = [Die([\\'A\\', \\'B\\', \\'C\\']) for _ in range(3)]\\n        self.game = Game(self.dice)\\n\\n    def test_play(self):\\n        self.game.play(10)\\n        self.assertEqual(len(self.game._results), 10)\\n        print(\"TestGame: test_play passed\")\\n\\n    def test_show_wide(self):\\n        self.game.play(5)\\n        results = self.game.show(\\'wide\\')\\n        self.assertEqual(results.shape[0], 5)\\n        print(\"TestGame: test_show_wide passed\")\\n\\n    def test_show_narrow(self):\\n        self.game.play(5)\\n        results = self.game.show(\\'narrow\\')\\n        self.assertEqual(len(results), 15)  # 5 rolls * 3 dice\\n        print(\"TestGame: test_show_narrow passed\")\\n\\n\\nclass TestAnalyzer(unittest.TestCase):\\n\\n    def setUp(self):\\n        dice = [Die([\\'A\\', \\'B\\', \\'C\\']) for _ in range(3)]\\n        self.game = Game(dice)\\n        self.game.play(10)\\n        self.analyzer = Analyzer(self.game)\\n\\n    def test_jackpot(self):\\n        jackpots = self.analyzer.jackpot()\\n        self.assertGreaterEqual(jackpots, 0)\\n        print(\"TestAnalyzer: test_jackpot passed\")\\n\\n    def test_face_counts_per_roll(self):\\n        face_counts = self.analyzer.face_counts_per_roll()\\n        self.assertIsInstance(face_counts, pd.DataFrame)\\n        self.assertEqual(face_counts.shape[0], 10)\\n        print(\"TestAnalyzer: test_face_counts_per_roll passed\")\\n\\n    def test_combo_count(self):\\n        combos = self.analyzer.combo_count()\\n        self.assertIsInstance(combos, pd.DataFrame)\\n        print(\"TestAnalyzer: test_combo_count passed\")\\n\\n    def test_permutation_count(self):\\n        permutations = self.analyzer.permutation_count()\\n        self.assertIsInstance(permutations, pd.DataFrame)\\n        print(\"TestAnalyzer: test_permutation_count passed\")\\n\\n\\nclass TestIntegration(unittest.TestCase):\\n\\n    def test_alphabet_die_creation(self):\\n        alphabet_die = load_alphabet_die(\\'english_letters.txt\\')\\n        self.assertIsInstance(alphabet_die, Die)\\n        self.assertEqual(len(alphabet_die.show()), 26)\\n        print(\"TestIntegration: test_alphabet_die_creation passed\")\\n\\n    def test_valid_words(self):\\n        alphabet_die = load_alphabet_die(\\'english_letters.txt\\')\\n        dice = [alphabet_die for _ in range(5)]\\n        game = Game(dice)\\n        game.play(10)\\n        analyzer = Analyzer(game)\\n        valid_words = analyzer.valid_words(\\'scrabble_words.txt\\')\\n        self.assertIsInstance(valid_words, pd.DataFrame)\\n        print(\"TestIntegration: test_valid_words passed\")\\n\\n\\nif __name__ == \\'__main__\\':\\n    unittest.main()\\n'"
      ]
     },
     "execution_count": 2,
     "metadata": {},
     "output_type": "execute_result"
    }
   ],
   "source": [
    "'''# A code block with your test code.\n",
    "\n",
    "import unittest\n",
    "import pandas as pd\n",
    "import numpy as np\n",
    "from montecarlo import Die, Game, Analyzer, load_alphabet_die\n",
    "\n",
    "\n",
    "class TestDie(unittest.TestCase):\n",
    "\n",
    "    def setUp(self):\n",
    "        self.die = Die(['A', 'B', 'C'])\n",
    "\n",
    "    def test_initial_weights(self):\n",
    "        self.assertTrue((self.die._die_df['Weight'] == 1.0).all())\n",
    "        print(\"TestDie: test_initial_weights passed\")\n",
    "\n",
    "    def test_change_weight(self):\n",
    "        self.die.change_weight('A', 2.5)\n",
    "        self.assertEqual(self.die._die_df.loc[self.die._die_df['Face'] == 'A', 'Weight'].values[0], 2.5)\n",
    "        print(\"TestDie: test_change_weight passed\")\n",
    "\n",
    "    def test_invalid_weight_change(self):\n",
    "        with self.assertRaises(ValueError):\n",
    "            self.die.change_weight('D', 2.0)\n",
    "        print(\"TestDie: test_invalid_weight_change passed\")\n",
    "\n",
    "    def test_roll(self):\n",
    "        rolls = self.die.roll(5)\n",
    "        self.assertEqual(len(rolls), 5)\n",
    "        self.assertTrue(set(rolls).issubset({'A', 'B', 'C'}))\n",
    "        print(\"TestDie: test_roll passed\")\n",
    "\n",
    "    def test_show(self):\n",
    "        df = self.die.show()\n",
    "        self.assertIsInstance(df, pd.DataFrame)\n",
    "        self.assertEqual(len(df), 3)\n",
    "        print(\"TestDie: test_show passed\")\n",
    "\n",
    "\n",
    "class TestGame(unittest.TestCase):\n",
    "\n",
    "    def setUp(self):\n",
    "        self.dice = [Die(['A', 'B', 'C']) for _ in range(3)]\n",
    "        self.game = Game(self.dice)\n",
    "\n",
    "    def test_play(self):\n",
    "        self.game.play(10)\n",
    "        self.assertEqual(len(self.game._results), 10)\n",
    "        print(\"TestGame: test_play passed\")\n",
    "\n",
    "    def test_show_wide(self):\n",
    "        self.game.play(5)\n",
    "        results = self.game.show('wide')\n",
    "        self.assertEqual(results.shape[0], 5)\n",
    "        print(\"TestGame: test_show_wide passed\")\n",
    "\n",
    "    def test_show_narrow(self):\n",
    "        self.game.play(5)\n",
    "        results = self.game.show('narrow')\n",
    "        self.assertEqual(len(results), 15)  # 5 rolls * 3 dice\n",
    "        print(\"TestGame: test_show_narrow passed\")\n",
    "\n",
    "\n",
    "class TestAnalyzer(unittest.TestCase):\n",
    "\n",
    "    def setUp(self):\n",
    "        dice = [Die(['A', 'B', 'C']) for _ in range(3)]\n",
    "        self.game = Game(dice)\n",
    "        self.game.play(10)\n",
    "        self.analyzer = Analyzer(self.game)\n",
    "\n",
    "    def test_jackpot(self):\n",
    "        jackpots = self.analyzer.jackpot()\n",
    "        self.assertGreaterEqual(jackpots, 0)\n",
    "        print(\"TestAnalyzer: test_jackpot passed\")\n",
    "\n",
    "    def test_face_counts_per_roll(self):\n",
    "        face_counts = self.analyzer.face_counts_per_roll()\n",
    "        self.assertIsInstance(face_counts, pd.DataFrame)\n",
    "        self.assertEqual(face_counts.shape[0], 10)\n",
    "        print(\"TestAnalyzer: test_face_counts_per_roll passed\")\n",
    "\n",
    "    def test_combo_count(self):\n",
    "        combos = self.analyzer.combo_count()\n",
    "        self.assertIsInstance(combos, pd.DataFrame)\n",
    "        print(\"TestAnalyzer: test_combo_count passed\")\n",
    "\n",
    "    def test_permutation_count(self):\n",
    "        permutations = self.analyzer.permutation_count()\n",
    "        self.assertIsInstance(permutations, pd.DataFrame)\n",
    "        print(\"TestAnalyzer: test_permutation_count passed\")\n",
    "\n",
    "\n",
    "class TestIntegration(unittest.TestCase):\n",
    "\n",
    "    def test_alphabet_die_creation(self):\n",
    "        alphabet_die = load_alphabet_die('english_letters.txt')\n",
    "        self.assertIsInstance(alphabet_die, Die)\n",
    "        self.assertEqual(len(alphabet_die.show()), 26)\n",
    "        print(\"TestIntegration: test_alphabet_die_creation passed\")\n",
    "\n",
    "    def test_valid_words(self):\n",
    "        alphabet_die = load_alphabet_die('english_letters.txt')\n",
    "        dice = [alphabet_die for _ in range(5)]\n",
    "        game = Game(dice)\n",
    "        game.play(10)\n",
    "        analyzer = Analyzer(game)\n",
    "        valid_words = analyzer.valid_words('scrabble_words.txt')\n",
    "        self.assertIsInstance(valid_words, pd.DataFrame)\n",
    "        print(\"TestIntegration: test_valid_words passed\")\n",
    "\n",
    "\n",
    "if __name__ == '__main__':\n",
    "    unittest.main()\n",
    "'''\n"
   ]
  },
  {
   "cell_type": "markdown",
   "id": "3e058d03-29bc-408f-b36d-0605b4f4b8c0",
   "metadata": {
    "tags": []
   },
   "source": [
    "## Unittest Results (3)\n",
    "\n",
    "Put a copy of the results of running your tests from the command line here.\n",
    "\n",
    "Again, paste as text using triple backticks.\n",
    "\n",
    "- All 12 specified methods return OK (3; .25 each)."
   ]
  },
  {
   "cell_type": "raw",
   "id": "54691fd0-836c-43c7-adc9-4a09d8aa9ab2",
   "metadata": {
    "tags": [],
    "vscode": {
     "languageId": "raw"
    }
   },
   "source": [
    "'''# A text block with the output of a successful test.\n",
    "\n",
    "PS C:\\Users\\1wgru\\iCloudDrive\\MSDS\\DS 5100\\Project> python -m unittest montecarlo_test.py\n",
    "..............\n",
    "----------------------------------------------------------------------\n",
    "Ran 14 tests in 0.104s\n",
    "\n",
    "OK\n",
    "PS C:\\Users\\1wgru\\iCloudDrive\\MSDS\\DS 5100\\Project> python -m unittest montecarlo_test.py\n",
    "..............\n",
    "----------------------------------------------------------------------\n",
    "Ran 14 tests in 0.097s\n",
    "\n",
    "OK\n",
    "PS C:\\Users\\1wgru\\iCloudDrive\\MSDS\\DS 5100\\Project> python -m unittest montecarlo_test.py\n",
    "TestAnalyzer: test_combo_count passed\n",
    ".TestAnalyzer: test_face_counts_per_roll passed\n",
    ".TestAnalyzer: test_jackpot passed\n",
    ".TestAnalyzer: test_permutation_count passed\n",
    ".TestDie: test_change_weight passed\n",
    ".TestDie: test_initial_weights passed\n",
    ".TestDie: test_invalid_weight_change passed\n",
    ".TestDie: test_roll passed\n",
    ".TestDie: test_show passed\n",
    ".TestGame: test_play passed\n",
    ".TestGame: test_show_narrow passed\n",
    ".TestGame: test_show_wide passed\n",
    ".TestIntegration: test_alphabet_die_creation passed\n",
    ".TestIntegration: test_valid_words passed\n",
    ".\n",
    "----------------------------------------------------------------------\n",
    "Ran 14 tests in 0.098s"
   ]
  },
  {
   "cell_type": "markdown",
   "id": "d9ffe8c5-eb2f-4ad1-af76-a46550e4c7ac",
   "metadata": {},
   "source": [
    "## Import (1)\n",
    "\n",
    "# Test importing the montecarlo module\n",
    "from montecarlo import Die, Game, Analyzer, load_alphabet_die\n",
    "\n",
    "print(\"Module 'montecarlo' imported successfully!\")\n"
   ]
  },
  {
   "cell_type": "code",
   "execution_count": 3,
   "id": "a05dffb3-e6d6-4f78-9df4-5abd0cf74ca9",
   "metadata": {
    "tags": []
   },
   "outputs": [
    {
     "name": "stdout",
     "output_type": "stream",
     "text": [
      "Module 'montecarlo' successfully imported!\n"
     ]
    }
   ],
   "source": [
    "# e.g. import montecarlo.montecarlo \n",
    "\n",
    "# Import the montecarlo module\n",
    "from montecarlo import Die, Game, Analyzer, load_alphabet_die\n",
    "\n",
    "# Confirm successful import\n",
    "print(\"Module 'montecarlo' successfully imported!\")\n"
   ]
  },
  {
   "cell_type": "markdown",
   "id": "f30c4842-65b1-4556-98b6-3fe1a07e1371",
   "metadata": {},
   "source": [
    "## Help Docs (4)\n",
    "\n",
    "Show your docstring documentation by applying `help()` to your imported module.\n",
    "\n",
    "- All methods have a docstring (3; .25 each).\n",
    "- All classes have a docstring (1; .33 each)."
   ]
  },
  {
   "cell_type": "code",
   "execution_count": 4,
   "id": "bf4fbf1f-9885-471c-a0a6-e9ca90e160de",
   "metadata": {
    "tags": []
   },
   "outputs": [
    {
     "name": "stdout",
     "output_type": "stream",
     "text": [
      "Module Help:\n",
      "Help on module montecarlo:\n",
      "\n",
      "NAME\n",
      "    montecarlo\n",
      "\n",
      "CLASSES\n",
      "    builtins.object\n",
      "        Analyzer\n",
      "        Die\n",
      "        Game\n",
      "    \n",
      "    class Analyzer(builtins.object)\n",
      "     |  Analyzer(game)\n",
      "     |  \n",
      "     |  A class for analyzing the results of a game.\n",
      "     |  \n",
      "     |  Methods defined here:\n",
      "     |  \n",
      "     |  __init__(self, game)\n",
      "     |      Initialize the analyzer with a game object.\n",
      "     |      \n",
      "     |      :param game: A Game object.\n",
      "     |  \n",
      "     |  combo_count(self)\n",
      "     |      Count distinct combinations of faces rolled.\n",
      "     |      \n",
      "     |      :return: A DataFrame of combinations and their counts.\n",
      "     |  \n",
      "     |  face_counts_per_roll(self)\n",
      "     |      Count the occurrences of each face in each roll.\n",
      "     |      \n",
      "     |      :return: A DataFrame of face counts.\n",
      "     |  \n",
      "     |  jackpot(self)\n",
      "     |      Count how many rolls resulted in all dice showing the same face.\n",
      "     |      \n",
      "     |      :return: An integer count of jackpots.\n",
      "     |  \n",
      "     |  permutation_count(self)\n",
      "     |      Count distinct permutations of faces rolled.\n",
      "     |      \n",
      "     |      :return: A DataFrame of permutations and their counts.\n",
      "     |  \n",
      "     |  valid_words(self, scrabble_words_file)\n",
      "     |      Count valid Scrabble words formed by letter permutations.\n",
      "     |      \n",
      "     |      :param scrabble_words_file: Path to the Scrabble words file.\n",
      "     |      :return: A DataFrame of valid words and their counts.\n",
      "     |  \n",
      "     |  ----------------------------------------------------------------------\n",
      "     |  Data descriptors defined here:\n",
      "     |  \n",
      "     |  __dict__\n",
      "     |      dictionary for instance variables (if defined)\n",
      "     |  \n",
      "     |  __weakref__\n",
      "     |      list of weak references to the object (if defined)\n",
      "    \n",
      "    class Die(builtins.object)\n",
      "     |  Die(faces)\n",
      "     |  \n",
      "     |  A class representing a die with customizable faces and weights.\n",
      "     |  \n",
      "     |  Methods defined here:\n",
      "     |  \n",
      "     |  __init__(self, faces)\n",
      "     |      Initialize the die with unique faces and default weights of 1.0.\n",
      "     |      \n",
      "     |      :param faces: A list or array of unique faces.\n",
      "     |  \n",
      "     |  change_weight(self, face, new_weight)\n",
      "     |      Change the weight of a specific face.\n",
      "     |      \n",
      "     |      :param face: The face of the die to update.\n",
      "     |      :param new_weight: The new weight (must be numeric).\n",
      "     |  \n",
      "     |  roll(self, n_rolls=1)\n",
      "     |      Roll the die n times.\n",
      "     |      \n",
      "     |      :param n_rolls: The number of rolls.\n",
      "     |      :return: A list of outcomes.\n",
      "     |  \n",
      "     |  show(self)\n",
      "     |      Show the current state of the die.\n",
      "     |      \n",
      "     |      :return: A DataFrame showing faces and weights.\n",
      "     |  \n",
      "     |  ----------------------------------------------------------------------\n",
      "     |  Data descriptors defined here:\n",
      "     |  \n",
      "     |  __dict__\n",
      "     |      dictionary for instance variables (if defined)\n",
      "     |  \n",
      "     |  __weakref__\n",
      "     |      list of weak references to the object (if defined)\n",
      "    \n",
      "    class Game(builtins.object)\n",
      "     |  Game(dice)\n",
      "     |  \n",
      "     |  A class representing a game involving one or more dice.\n",
      "     |  \n",
      "     |  Methods defined here:\n",
      "     |  \n",
      "     |  __init__(self, dice)\n",
      "     |      Initialize the game with a list of dice.\n",
      "     |      \n",
      "     |      :param dice: A list of Die objects.\n",
      "     |  \n",
      "     |  play(self, n_rolls)\n",
      "     |      Play the game by rolling all dice n times.\n",
      "     |      \n",
      "     |      :param n_rolls: The number of rolls.\n",
      "     |  \n",
      "     |  show(self, form='wide')\n",
      "     |      Show the results of the most recent game.\n",
      "     |      \n",
      "     |      :param form: \"wide\" for wide format, \"narrow\" for narrow format.\n",
      "     |      :return: A DataFrame of results.\n",
      "     |  \n",
      "     |  ----------------------------------------------------------------------\n",
      "     |  Data descriptors defined here:\n",
      "     |  \n",
      "     |  __dict__\n",
      "     |      dictionary for instance variables (if defined)\n",
      "     |  \n",
      "     |  __weakref__\n",
      "     |      list of weak references to the object (if defined)\n",
      "\n",
      "FUNCTIONS\n",
      "    load_alphabet_die(file_path)\n",
      "        Create a Die instance for the English alphabet weighted by letter frequency.\n",
      "        \n",
      "        :param file_path: Path to the `english_letters.txt` file.\n",
      "        :return: A Die object.\n",
      "\n",
      "FILE\n",
      "    /sfs/gpfs/tardis/home/usp7bf/montecarloprojectds5100/montecarlo.py\n",
      "\n",
      "\n",
      "\n",
      "Die Class Help:\n",
      "Help on class Die in module montecarlo:\n",
      "\n",
      "class Die(builtins.object)\n",
      " |  Die(faces)\n",
      " |  \n",
      " |  A class representing a die with customizable faces and weights.\n",
      " |  \n",
      " |  Methods defined here:\n",
      " |  \n",
      " |  __init__(self, faces)\n",
      " |      Initialize the die with unique faces and default weights of 1.0.\n",
      " |      \n",
      " |      :param faces: A list or array of unique faces.\n",
      " |  \n",
      " |  change_weight(self, face, new_weight)\n",
      " |      Change the weight of a specific face.\n",
      " |      \n",
      " |      :param face: The face of the die to update.\n",
      " |      :param new_weight: The new weight (must be numeric).\n",
      " |  \n",
      " |  roll(self, n_rolls=1)\n",
      " |      Roll the die n times.\n",
      " |      \n",
      " |      :param n_rolls: The number of rolls.\n",
      " |      :return: A list of outcomes.\n",
      " |  \n",
      " |  show(self)\n",
      " |      Show the current state of the die.\n",
      " |      \n",
      " |      :return: A DataFrame showing faces and weights.\n",
      " |  \n",
      " |  ----------------------------------------------------------------------\n",
      " |  Data descriptors defined here:\n",
      " |  \n",
      " |  __dict__\n",
      " |      dictionary for instance variables (if defined)\n",
      " |  \n",
      " |  __weakref__\n",
      " |      list of weak references to the object (if defined)\n",
      "\n",
      "\n",
      "Game Class Help:\n",
      "Help on class Game in module montecarlo:\n",
      "\n",
      "class Game(builtins.object)\n",
      " |  Game(dice)\n",
      " |  \n",
      " |  A class representing a game involving one or more dice.\n",
      " |  \n",
      " |  Methods defined here:\n",
      " |  \n",
      " |  __init__(self, dice)\n",
      " |      Initialize the game with a list of dice.\n",
      " |      \n",
      " |      :param dice: A list of Die objects.\n",
      " |  \n",
      " |  play(self, n_rolls)\n",
      " |      Play the game by rolling all dice n times.\n",
      " |      \n",
      " |      :param n_rolls: The number of rolls.\n",
      " |  \n",
      " |  show(self, form='wide')\n",
      " |      Show the results of the most recent game.\n",
      " |      \n",
      " |      :param form: \"wide\" for wide format, \"narrow\" for narrow format.\n",
      " |      :return: A DataFrame of results.\n",
      " |  \n",
      " |  ----------------------------------------------------------------------\n",
      " |  Data descriptors defined here:\n",
      " |  \n",
      " |  __dict__\n",
      " |      dictionary for instance variables (if defined)\n",
      " |  \n",
      " |  __weakref__\n",
      " |      list of weak references to the object (if defined)\n",
      "\n",
      "\n",
      "Analyzer Class Help:\n",
      "Help on class Analyzer in module montecarlo:\n",
      "\n",
      "class Analyzer(builtins.object)\n",
      " |  Analyzer(game)\n",
      " |  \n",
      " |  A class for analyzing the results of a game.\n",
      " |  \n",
      " |  Methods defined here:\n",
      " |  \n",
      " |  __init__(self, game)\n",
      " |      Initialize the analyzer with a game object.\n",
      " |      \n",
      " |      :param game: A Game object.\n",
      " |  \n",
      " |  combo_count(self)\n",
      " |      Count distinct combinations of faces rolled.\n",
      " |      \n",
      " |      :return: A DataFrame of combinations and their counts.\n",
      " |  \n",
      " |  face_counts_per_roll(self)\n",
      " |      Count the occurrences of each face in each roll.\n",
      " |      \n",
      " |      :return: A DataFrame of face counts.\n",
      " |  \n",
      " |  jackpot(self)\n",
      " |      Count how many rolls resulted in all dice showing the same face.\n",
      " |      \n",
      " |      :return: An integer count of jackpots.\n",
      " |  \n",
      " |  permutation_count(self)\n",
      " |      Count distinct permutations of faces rolled.\n",
      " |      \n",
      " |      :return: A DataFrame of permutations and their counts.\n",
      " |  \n",
      " |  valid_words(self, scrabble_words_file)\n",
      " |      Count valid Scrabble words formed by letter permutations.\n",
      " |      \n",
      " |      :param scrabble_words_file: Path to the Scrabble words file.\n",
      " |      :return: A DataFrame of valid words and their counts.\n",
      " |  \n",
      " |  ----------------------------------------------------------------------\n",
      " |  Data descriptors defined here:\n",
      " |  \n",
      " |  __dict__\n",
      " |      dictionary for instance variables (if defined)\n",
      " |  \n",
      " |  __weakref__\n",
      " |      list of weak references to the object (if defined)\n",
      "\n",
      "\n",
      "Function Help (load_alphabet_die):\n",
      "Help on function load_alphabet_die in module montecarlo:\n",
      "\n",
      "load_alphabet_die(file_path)\n",
      "    Create a Die instance for the English alphabet weighted by letter frequency.\n",
      "    \n",
      "    :param file_path: Path to the `english_letters.txt` file.\n",
      "    :return: A Die object.\n",
      "\n"
     ]
    }
   ],
   "source": [
    "# Import the montecarlo module\n",
    "from montecarlo import Die, Game, Analyzer, load_alphabet_die\n",
    "\n",
    "# Show module-level help\n",
    "print(\"Module Help:\")\n",
    "help(\"montecarlo\")\n",
    "\n",
    "# Show class-level and method-level help\n",
    "print(\"\\nDie Class Help:\")\n",
    "help(Die)\n",
    "\n",
    "print(\"\\nGame Class Help:\")\n",
    "help(Game)\n",
    "\n",
    "print(\"\\nAnalyzer Class Help:\")\n",
    "help(Analyzer)\n",
    "\n",
    "print(\"\\nFunction Help (load_alphabet_die):\")\n",
    "help(load_alphabet_die)\n"
   ]
  },
  {
   "cell_type": "markdown",
   "id": "a9defa84-b395-4966-bd1c-5c6c2bb7ed68",
   "metadata": {},
   "source": [
    "## `README.md` File (3)\n",
    "\n",
    "Provide link to the README.md file of your project's repo.\n",
    "\n",
    "- Metadata section or info present (1).\n",
    "- Synopsis section showing how each class is called (1). (All must be included.)\n",
    "- API section listing all classes and methods (1). (All must be included.)"
   ]
  },
  {
   "cell_type": "markdown",
   "id": "ee090b33-d593-48a0-bf35-e739cea0942c",
   "metadata": {},
   "source": [
    "URL: https://github.com/1wgrumph/montecarloprojectds5100/blob/main/README.md"
   ]
  },
  {
   "cell_type": "markdown",
   "id": "108604c8-8827-42ef-ab59-6b25428fc0ca",
   "metadata": {},
   "source": [
    "## Successful installation (2)\n",
    "\n",
    "Put a screenshot or paste a copy of a terminal session where you successfully install your module with pip.\n",
    "\n",
    "If pasting text, use a preformatted text block to show the results.\n",
    "\n",
    "- Installed with `pip` (1).\n",
    "- Successfully installed message appears (1)."
   ]
  },
  {
   "cell_type": "raw",
   "id": "1278db6a-aa53-4e5c-a749-93a87ab239e0",
   "metadata": {
    "vscode": {
     "languageId": "raw"
    }
   },
   "source": [
    "PS C:\\Users\\1wgru\\iCloudDrive\\MSDS\\DS 5100\\Project> pip install .\n",
    "Processing c:\\users\\1wgru\\iclouddrive\\msds\\ds 5100\\project\n",
    "  Installing build dependencies ... done\n",
    "  Getting requirements to build wheel ... done\n",
    "  Preparing metadata (pyproject.toml) ... done\n",
    "Requirement already satisfied: numpy>=1.21 in c:\\users\\1wgru\\appdata\\local\\packages\\pythonsoftwarefoundation.python.3.11_qbz5n2kfra8p0\\localcache\\local-packages\\python311\\site-packages (from montecarlo==1.0.0) (2.1.1)\n",
    "Requirement already satisfied: pandas>=1.3 in c:\\users\\1wgru\\appdata\\local\\packages\\pythonsoftwarefoundation.python.3.11_qbz5n2kfra8p0\\localcache\\local-packages\\python311\\site-packages (from montecarlo==1.0.0) (2.2.3)\n",
    "Requirement already satisfied: python-dateutil>=2.8.2 in c:\\users\\1wgru\\appdata\\local\\packages\\pythonsoftwarefoundation.python.3.11_qbz5n2kfra8p0\\localcache\\local-packages\\python311\\site-packages (from pandas>=1.3->montecarlo==1.0.0) (2.9.0.post0)\n",
    "Requirement already satisfied: pytz>=2020.1 in c:\\users\\1wgru\\appdata\\local\\packages\\pythonsoftwarefoundation.python.3.11_qbz5n2kfra8p0\\localcache\\local-packages\\python311\\site-packages (from pandas>=1.3->montecarlo==1.0.0) (2024.2)\n",
    "Requirement already satisfied: tzdata>=2022.7 in c:\\users\\1wgru\\appdata\\local\\packages\\pythonsoftwarefoundation.python.3.11_qbz5n2kfra8p0\\localcache\\local-packages\\python311\\site-packages (from pandas>=1.3->montecarlo==1.0.0) (2024.2)\n",
    "Requirement already satisfied: six>=1.5 in c:\\users\\1wgru\\appdata\\local\\packages\\pythonsoftwarefoundation.python.3.11_qbz5n2kfra8p0\\localcache\\local-packages\\python311\\site-packages (from python-dateutil>=2.8.2->pandas>=1.3->montecarlo==1.0.0) (1.16.0)\n",
    "Building wheels for collected packages: montecarlo\n",
    "  Building wheel for montecarlo (pyproject.toml) ... done\n",
    "  Created wheel for montecarlo: filename=montecarlo-1.0.0-py3-none-any.whl size=1183 sha256=3af4ebd6773a7f48a55a56307e77662845e5e11aa9ccbf95b67ce21b61ab024e\n",
    "  Stored in directory: C:\\Users\\1wgru\\AppData\\Local\\Temp\\pip-ephem-wheel-cache-vdhhkopf\\wheels\\16\\0d\\0d\\27d5197265747bac46789eceffc99e336ac0e2a498a95b2f11\n",
    "Successfully built montecarlo\n",
    "Installing collected packages: montecarlo\n",
    "Successfully installed montecarlo-1.0.0"
   ]
  },
  {
   "cell_type": "markdown",
   "id": "7c44695d-d1b3-4edf-9f94-e64d7446f199",
   "metadata": {},
   "source": [
    "# Scenarios\n",
    "\n",
    "Use code blocks to perform the tasks for each scenario.\n",
    "\n",
    "Be sure the outputs are visible before submitting."
   ]
  },
  {
   "cell_type": "markdown",
   "id": "e2479eae-6fc9-44cd-b8d7-9b22cb501f2a",
   "metadata": {
    "tags": []
   },
   "source": [
    "## Scenario 1: A 2-headed Coin (9)\n",
    "\n",
    "Task 1. Create a fair coin (with faces $H$ and $T$) and one unfair coin in which one of the faces has a weight of $5$ and the others $1$.\n",
    "\n",
    "- Fair coin created (1).\n",
    "- Unfair coin created with weight as specified (1)."
   ]
  },
  {
   "cell_type": "code",
   "execution_count": 5,
   "id": "55ce498e-c75f-4425-9e3e-b635bd6cd9e1",
   "metadata": {},
   "outputs": [
    {
     "name": "stdout",
     "output_type": "stream",
     "text": [
      "Fair coin created:\n",
      "  Face  Weight\n",
      "0    H     1.0\n",
      "1    T     1.0\n",
      "\n",
      "Unfair coin created:\n",
      "  Face  Weight\n",
      "0    H     5.0\n",
      "1    T     1.0\n"
     ]
    }
   ],
   "source": [
    "from montecarlo import Die\n",
    "\n",
    "# Create a fair coin with faces H (Heads) and T (Tails)\n",
    "fair_coin = Die(['H', 'T'])\n",
    "print(\"Fair coin created:\")\n",
    "print(fair_coin.show())\n",
    "\n",
    "# Create an unfair coin where face H has weight 5 and T has weight 1\n",
    "unfair_coin = Die(['H', 'T'])\n",
    "unfair_coin.change_weight('H', 5)\n",
    "print(\"\\nUnfair coin created:\")\n",
    "print(unfair_coin.show())\n"
   ]
  },
  {
   "cell_type": "markdown",
   "id": "02b272ab-99da-4b6e-ac2a-555b73e09c07",
   "metadata": {},
   "source": [
    "Task 2. Play a game of $1000$ flips with two fair dice.\n",
    "\n",
    "- Play method called correclty and without error (1)."
   ]
  },
  {
   "cell_type": "code",
   "execution_count": 6,
   "id": "65c92601-d32d-4326-b215-74953aee27f2",
   "metadata": {},
   "outputs": [
    {
     "name": "stdout",
     "output_type": "stream",
     "text": [
      "First 10 results of the game:\n",
      "  Die 1 Die 2\n",
      "0     T     H\n",
      "1     H     T\n",
      "2     T     H\n",
      "3     H     H\n",
      "4     H     H\n",
      "5     H     T\n",
      "6     T     T\n",
      "7     H     H\n",
      "8     T     H\n",
      "9     H     T\n"
     ]
    }
   ],
   "source": [
    "from montecarlo import Die, Game\n",
    "\n",
    "# Create two fair coins\n",
    "fair_coin1 = Die(['H', 'T'])\n",
    "fair_coin2 = Die(['H', 'T'])\n",
    "\n",
    "# Initialize a game with two fair coins\n",
    "game = Game([fair_coin1, fair_coin2])\n",
    "\n",
    "# Play the game with 1,000 flips\n",
    "game.play(1000)\n",
    "\n",
    "# Display the first few results of the game\n",
    "print(\"First 10 results of the game:\")\n",
    "print(game.show('wide').head(10))\n"
   ]
  },
  {
   "cell_type": "markdown",
   "id": "7d9c3dc8-22c1-4cae-81fb-d68d774a05d1",
   "metadata": {},
   "source": [
    "Task 3. Play another game (using a new Game object) of $1000$ flips, this time using two unfair dice and one fair die. For the second unfair die, you can use the same die object twice in the list of dice you pass to the Game object.\n",
    "\n",
    "- New game object created (1).\n",
    "- Play method called correclty and without error (1)."
   ]
  },
  {
   "cell_type": "code",
   "execution_count": 7,
   "id": "d4098bed-1eb2-4084-8d5e-9fda07c3be43",
   "metadata": {},
   "outputs": [
    {
     "name": "stdout",
     "output_type": "stream",
     "text": [
      "First 10 results of the new game:\n",
      "  Die 1 Die 2 Die 3\n",
      "0     T     H     H\n",
      "1     H     H     T\n",
      "2     H     H     H\n",
      "3     H     H     H\n",
      "4     H     T     H\n",
      "5     H     H     H\n",
      "6     H     H     H\n",
      "7     H     H     H\n",
      "8     H     H     T\n",
      "9     H     H     H\n"
     ]
    }
   ],
   "source": [
    "from montecarlo import Die, Game\n",
    "\n",
    "# Create a fair die\n",
    "fair_die = Die(['H', 'T'])\n",
    "\n",
    "# Create an unfair die where 'H' has weight 5 and 'T' has weight 1\n",
    "unfair_die = Die(['H', 'T'])\n",
    "unfair_die.change_weight('H', 5)\n",
    "\n",
    "# Initialize a new game with two unfair dice (reusing one die) and one fair die\n",
    "new_game = Game([unfair_die, unfair_die, fair_die])\n",
    "\n",
    "# Play the game with 1,000 flips\n",
    "new_game.play(1000)\n",
    "\n",
    "# Display the first few results of the game\n",
    "print(\"First 10 results of the new game:\")\n",
    "print(new_game.show('wide').head(10))\n"
   ]
  },
  {
   "cell_type": "markdown",
   "id": "f690ebfc-fe71-4eb2-976d-7ac80ca6c23f",
   "metadata": {},
   "source": [
    "Task 4. For each game, use an Analyzer object to determine the raw frequency of jackpots — i.e. getting either all $H$s or all $T$s.\n",
    "\n",
    "- Analyzer objecs instantiated for both games (1).\n",
    "- Raw frequencies reported for both (1)."
   ]
  },
  {
   "cell_type": "code",
   "execution_count": 8,
   "id": "b26b8b7e-3be7-4476-a9a4-37d97536729e",
   "metadata": {},
   "outputs": [
    {
     "name": "stdout",
     "output_type": "stream",
     "text": [
      "Raw frequency of jackpots in the first game: 537\n",
      "Raw frequency of jackpots in the second game: 357\n"
     ]
    }
   ],
   "source": [
    "from montecarlo import Analyzer\n",
    "\n",
    "# Analyze the first game (two fair dice)\n",
    "analyzer_game1 = Analyzer(game)\n",
    "jackpots_game1 = analyzer_game1.jackpot()\n",
    "print(f\"Raw frequency of jackpots in the first game: {jackpots_game1}\")\n",
    "\n",
    "# Analyze the second game (two unfair dice and one fair die)\n",
    "analyzer_game2 = Analyzer(new_game)\n",
    "jackpots_game2 = analyzer_game2.jackpot()\n",
    "print(f\"Raw frequency of jackpots in the second game: {jackpots_game2}\")\n"
   ]
  },
  {
   "cell_type": "markdown",
   "id": "b73d233c-445e-40cd-8858-0c5e1f097105",
   "metadata": {},
   "source": [
    "Task 5. For each analyzer, compute relative frequency as the number of jackpots over the total number of rolls.\n",
    "\n",
    "- Both relative frequencies computed (1)."
   ]
  },
  {
   "cell_type": "code",
   "execution_count": 9,
   "id": "9a96b31b-1b9d-496e-be3e-4bf83c45ec3a",
   "metadata": {},
   "outputs": [
    {
     "name": "stdout",
     "output_type": "stream",
     "text": [
      "Relative frequency of jackpots in the first game: 0.5370\n",
      "Relative frequency of jackpots in the second game: 0.3570\n"
     ]
    }
   ],
   "source": [
    "# Compute relative frequency for the first game (two fair dice)\n",
    "relative_frequency_game1 = jackpots_game1 / 1000  # 1000 rolls in the first game\n",
    "print(f\"Relative frequency of jackpots in the first game: {relative_frequency_game1:.4f}\")\n",
    "\n",
    "# Compute relative frequency for the second game (two unfair dice and one fair die)\n",
    "relative_frequency_game2 = jackpots_game2 / 1000  # 1000 rolls in the second game\n",
    "print(f\"Relative frequency of jackpots in the second game: {relative_frequency_game2:.4f}\")\n"
   ]
  },
  {
   "cell_type": "markdown",
   "id": "a6e1e734-7f5c-4721-8ba4-2f3a424cf984",
   "metadata": {},
   "source": [
    "Task 6. Show your results, comparing the two relative frequencies, in a simple bar chart.\n",
    "\n",
    "- Bar chart plotted and correct (1)."
   ]
  },
  {
   "cell_type": "code",
   "execution_count": 10,
   "id": "473fa67c-aa53-4aa3-a0b7-e8772b3f6ed3",
   "metadata": {},
   "outputs": [
    {
     "data": {
      "image/png": "[encoded data removed]",
      "text/plain": [
       "<Figure size 640x480 with 1 Axes>"
      ]
     },
     "metadata": {},
     "output_type": "display_data"
    }
   ],
   "source": [
    "import matplotlib.pyplot as plt\n",
    "\n",
    "# Data for the bar chart\n",
    "games = ['Game 1: Fair Dice', 'Game 2: Mixed Dice']\n",
    "relative_frequencies = [relative_frequency_game1, relative_frequency_game2]\n",
    "\n",
    "# Plotting the bar chart\n",
    "plt.bar(games, relative_frequencies)\n",
    "plt.title('Comparison of Relative Frequencies of Jackpots')\n",
    "plt.ylabel('Relative Frequency')\n",
    "plt.xlabel('Game')\n",
    "plt.ylim(0, 1)  # Setting y-axis limits for better visualization\n",
    "plt.show()\n"
   ]
  },
  {
   "cell_type": "markdown",
   "id": "725cfa5b-e4b7-47c9-86aa-8d9e1fe6c8c7",
   "metadata": {},
   "source": [
    "## Scenario 2: A 6-sided Die (9)\n",
    "\n",
    "Task 1. Create three dice, each with six sides having the faces 1 through 6.\n",
    "\n",
    "- Three die objects created (1)."
   ]
  },
  {
   "cell_type": "code",
   "execution_count": 11,
   "id": "6a8bc611-325a-4e05-88d5-980e0a2cf7c5",
   "metadata": {},
   "outputs": [
    {
     "name": "stdout",
     "output_type": "stream",
     "text": [
      "State of the first die:\n",
      "   Face  Weight\n",
      "0     1     1.0\n",
      "1     2     1.0\n",
      "2     3     1.0\n",
      "3     4     1.0\n",
      "4     5     1.0\n",
      "5     6     1.0\n"
     ]
    }
   ],
   "source": [
    "from montecarlo import Die\n",
    "\n",
    "# Create three 6-sided dice\n",
    "die1 = Die([1, 2, 3, 4, 5, 6])\n",
    "die2 = Die([1, 2, 3, 4, 5, 6])\n",
    "die3 = Die([1, 2, 3, 4, 5, 6])\n",
    "\n",
    "# Display the state of the first die to confirm\n",
    "print(\"State of the first die:\")\n",
    "print(die1.show())\n"
   ]
  },
  {
   "cell_type": "markdown",
   "id": "2ed3ad26-fbe9-43bd-9ad7-f683a4191d12",
   "metadata": {},
   "source": [
    "Task 2. Convert one of the dice to an unfair one by weighting the face $6$ five times more than the other weights (i.e. it has weight of 5 and the others a weight of 1 each).\n",
    "\n",
    "- Unfair die created with proper call to weight change method (1)."
   ]
  },
  {
   "cell_type": "code",
   "execution_count": 12,
   "id": "e33dd18f-7f90-456d-a680-61c08a328e21",
   "metadata": {},
   "outputs": [
    {
     "name": "stdout",
     "output_type": "stream",
     "text": [
      "State of the unfair die:\n",
      "   Face  Weight\n",
      "0     1     1.0\n",
      "1     2     1.0\n",
      "2     3     1.0\n",
      "3     4     1.0\n",
      "4     5     1.0\n",
      "5     6     5.0\n"
     ]
    }
   ],
   "source": [
    "# Convert the first die to an unfair die\n",
    "die1.change_weight(6, 5)\n",
    "\n",
    "# Display the state of the unfair die to confirm\n",
    "print(\"State of the unfair die:\")\n",
    "print(die1.show())\n"
   ]
  },
  {
   "cell_type": "markdown",
   "id": "7f6c062a-4c5b-45b9-96b8-76a0354c7e47",
   "metadata": {},
   "source": [
    "Task 3. Convert another of the dice to be unfair by weighting the face $1$ five times more than the others.\n",
    "\n",
    "- Unfair die created with proper call to weight change method (1)."
   ]
  },
  {
   "cell_type": "code",
   "execution_count": 13,
   "id": "01133a4e-6b06-4246-8d90-8e6d6995be51",
   "metadata": {},
   "outputs": [
    {
     "name": "stdout",
     "output_type": "stream",
     "text": [
      "State of the second unfair die:\n",
      "   Face  Weight\n",
      "0     1     5.0\n",
      "1     2     1.0\n",
      "2     3     1.0\n",
      "3     4     1.0\n",
      "4     5     1.0\n",
      "5     6     1.0\n"
     ]
    }
   ],
   "source": [
    "# Convert the second die to an unfair die\n",
    "die2.change_weight(1, 5)\n",
    "\n",
    "# Display the state of the unfair die to confirm\n",
    "print(\"State of the second unfair die:\")\n",
    "print(die2.show())\n"
   ]
  },
  {
   "cell_type": "markdown",
   "id": "f0ed31cb-0a3c-4eb2-b85e-6ed6b2eb6e58",
   "metadata": {},
   "source": [
    "Task 4. Play a game of $10000$ rolls with $5$ fair dice.\n",
    "\n",
    "- Game class properly instantiated (1). \n",
    "- Play method called properly (1)."
   ]
  },
  {
   "cell_type": "code",
   "execution_count": 14,
   "id": "e92395a4-9ed8-4cb0-8c85-38768a784ffc",
   "metadata": {},
   "outputs": [
    {
     "name": "stdout",
     "output_type": "stream",
     "text": [
      "First 10 results of the game:\n",
      "   Die 1  Die 2  Die 3  Die 4  Die 5\n",
      "0      1      5      2      1      1\n",
      "1      3      3      3      6      4\n",
      "2      1      2      5      2      4\n",
      "3      5      2      5      5      2\n",
      "4      6      4      4      1      4\n",
      "5      4      2      3      1      3\n",
      "6      4      6      3      3      6\n",
      "7      6      6      6      2      3\n",
      "8      4      1      1      4      3\n",
      "9      4      3      6      4      2\n"
     ]
    }
   ],
   "source": [
    "from montecarlo import Die, Game\n",
    "\n",
    "# Create 5 fair dice\n",
    "fair_dice = [Die([1, 2, 3, 4, 5, 6]) for _ in range(5)]\n",
    "\n",
    "# Initialize a game with the 5 fair dice\n",
    "game = Game(fair_dice)\n",
    "\n",
    "# Play the game with 10,000 rolls\n",
    "game.play(10000)\n",
    "\n",
    "# Display the first few results of the game to confirm\n",
    "print(\"First 10 results of the game:\")\n",
    "print(game.show('wide').head(10))\n"
   ]
  },
  {
   "cell_type": "markdown",
   "id": "7814b402-46a4-40e5-8141-20e05c3e646b",
   "metadata": {},
   "source": [
    "Task 5. Play another game of $10000$ rolls, this time with $2$ unfair dice, one as defined in steps #2 and #3 respectively, and $3$ fair dice.\n",
    "\n",
    "- Game class properly instantiated (1). \n",
    "- Play method called properly (1)."
   ]
  },
  {
   "cell_type": "code",
   "execution_count": 15,
   "id": "7cd58fba-b2a5-4d5d-bc6d-2a7a68d18c4f",
   "metadata": {},
   "outputs": [
    {
     "name": "stdout",
     "output_type": "stream",
     "text": [
      "First 10 results of the new game:\n",
      "   Die 1  Die 2  Die 3  Die 4  Die 5\n",
      "0      6      1      3      6      1\n",
      "1      6      3      5      2      5\n",
      "2      3      3      6      6      1\n",
      "3      6      1      3      2      1\n",
      "4      3      4      1      4      3\n",
      "5      1      1      4      3      1\n",
      "6      6      5      6      4      4\n",
      "7      6      1      2      4      2\n",
      "8      2      2      5      6      1\n",
      "9      6      1      4      2      2\n"
     ]
    }
   ],
   "source": [
    "# Create 3 additional fair dice\n",
    "fair_dice = [Die([1, 2, 3, 4, 5, 6]) for _ in range(3)]\n",
    "\n",
    "# Initialize a new game with 2 unfair dice and 3 fair dice\n",
    "new_game = Game([die1, die2] + fair_dice)\n",
    "\n",
    "# Play the game with 10,000 rolls\n",
    "new_game.play(10000)\n",
    "\n",
    "# Display the first few results of the new game to confirm\n",
    "print(\"First 10 results of the new game:\")\n",
    "print(new_game.show('wide').head(10))\n"
   ]
  },
  {
   "cell_type": "markdown",
   "id": "7b6cd372-2bb8-4df8-ade1-8f48bc300955",
   "metadata": {},
   "source": [
    "Task 6. For each game, use an Analyzer object to determine the relative frequency of jackpots and show your results, comparing the two relative frequencies, in a simple bar chart.\n",
    "\n",
    "- Jackpot methods called (1).\n",
    "- Graph produced (1)."
   ]
  },
  {
   "cell_type": "code",
   "execution_count": 16,
   "id": "bbdcf695-8937-406e-9b53-aa0b9ee3c59a",
   "metadata": {},
   "outputs": [
    {
     "name": "stdout",
     "output_type": "stream",
     "text": [
      "Relative frequency of jackpots in the first game: 0.0005\n",
      "Relative frequency of jackpots in the second game: 0.0007\n"
     ]
    },
    {
     "data": {
      "image/png": "[encoded data removed]",
      "text/plain": [
       "<Figure size 640x480 with 1 Axes>"
      ]
     },
     "metadata": {},
     "output_type": "display_data"
    }
   ],
   "source": [
    "from montecarlo import Analyzer\n",
    "import matplotlib.pyplot as plt\n",
    "\n",
    "# Analyze the first game (5 fair dice)\n",
    "analyzer_game1 = Analyzer(game)\n",
    "jackpots_game1 = analyzer_game1.jackpot()\n",
    "relative_frequency_game1 = jackpots_game1 / 10000  # 10,000 rolls in the first game\n",
    "print(f\"Relative frequency of jackpots in the first game: {relative_frequency_game1:.4f}\")\n",
    "\n",
    "# Analyze the second game (2 unfair dice and 3 fair dice)\n",
    "analyzer_game2 = Analyzer(new_game)\n",
    "jackpots_game2 = analyzer_game2.jackpot()\n",
    "relative_frequency_game2 = jackpots_game2 / 10000  # 10,000 rolls in the second game\n",
    "print(f\"Relative frequency of jackpots in the second game: {relative_frequency_game2:.4f}\")\n",
    "\n",
    "# Compare results in a bar chart\n",
    "games = ['Game 1: 5 Fair Dice', 'Game 2: 2 Unfair, 3 Fair Dice']\n",
    "relative_frequencies = [relative_frequency_game1, relative_frequency_game2]\n",
    "\n",
    "# Plot the bar chart\n",
    "plt.bar(games, relative_frequencies, color=['blue', 'orange'])\n",
    "plt.title('Comparison of Relative Frequencies of Jackpots')\n",
    "plt.ylabel('Relative Frequency')\n",
    "plt.xlabel('Game')\n",
    "plt.ylim(0, 0.001)  # Set y-axis limit for better visualization\n",
    "plt.show()\n"
   ]
  },
  {
   "cell_type": "markdown",
   "id": "9f04e9be-8fcf-4ea4-a391-6614608285f8",
   "metadata": {},
   "source": [
    "## Scenario 3: Letters of the Alphabet (7)\n",
    "\n",
    "Task 1. Create a \"die\" of letters from $A$ to $Z$ with weights based on their frequency of usage as found in the data file `english_letters.txt`. Use the frequencies (i.e. raw counts) as weights.\n",
    "\n",
    "- Die correctly instantiated with source file data (1).\n",
    "- Weights properly applied using weight setting method (1)."
   ]
  },
  {
   "cell_type": "code",
   "execution_count": 17,
   "id": "b0ceb771-3cdf-4d8f-8c2c-020806bbb909",
   "metadata": {},
   "outputs": [
    {
     "name": "stdout",
     "output_type": "stream",
     "text": [
      "State of the alphabet die:\n",
      "   Face    Weight\n",
      "0     E  0.120965\n",
      "1     T  0.089381\n",
      "2     A  0.085517\n",
      "3     O  0.074673\n",
      "4     I  0.073251\n",
      "5     N  0.071722\n",
      "6     S  0.067282\n",
      "7     R  0.063327\n",
      "8     H  0.049557\n",
      "9     L  0.042065\n",
      "10    D  0.038712\n",
      "11    C  0.031644\n",
      "12    U  0.026816\n",
      "13    M  0.025263\n",
      "14    F  0.021815\n",
      "15    G  0.020863\n",
      "16    P  0.020662\n",
      "17    W  0.018254\n",
      "18    Y  0.017214\n",
      "19    B  0.016048\n",
      "20    V  0.010593\n",
      "21    K  0.008087\n",
      "22    J  0.002198\n",
      "23    X  0.001914\n",
      "24    Z  0.001138\n",
      "25    Q  0.001040\n"
     ]
    }
   ],
   "source": [
    "from montecarlo import Die, load_alphabet_die\n",
    "\n",
    "# Create a die using weights from the `english_letters.txt` file\n",
    "alphabet_die = load_alphabet_die('english_letters.txt')\n",
    "\n",
    "# Display the state of the die to confirm weights\n",
    "print(\"State of the alphabet die:\")\n",
    "print(alphabet_die.show())\n"
   ]
  },
  {
   "cell_type": "markdown",
   "id": "88e2e14a-6223-470a-a2c8-bca1120d7a5b",
   "metadata": {},
   "source": [
    "Task 2. Play a game involving $4$ of these dice with $1000$ rolls.\n",
    "\n",
    "- Game play method properly called (1)."
   ]
  },
  {
   "cell_type": "code",
   "execution_count": 18,
   "id": "2ae087cc-936d-4f1e-bddb-a7c179d139e0",
   "metadata": {},
   "outputs": [
    {
     "name": "stdout",
     "output_type": "stream",
     "text": [
      "First 10 results of the alphabet game:\n",
      "  Die 1 Die 2 Die 3 Die 4\n",
      "0     P     L     N     N\n",
      "1     A     F     P     P\n",
      "2     O     P     N     O\n",
      "3     T     S     E     E\n",
      "4     E     S     A     E\n",
      "5     F     O     D     E\n",
      "6     E     N     E     I\n",
      "7     T     R     M     B\n",
      "8     Y     N     Y     C\n",
      "9     A     L     A     L\n"
     ]
    }
   ],
   "source": [
    "from montecarlo import Game\n",
    "\n",
    "# Create 4 alphabet dice using the previously created alphabet_die\n",
    "alphabet_dice = [alphabet_die, alphabet_die, alphabet_die, alphabet_die]\n",
    "\n",
    "# Initialize the game with 4 alphabet dice\n",
    "alphabet_game = Game(alphabet_dice)\n",
    "\n",
    "# Play the game with 1,000 rolls\n",
    "alphabet_game.play(1000)\n",
    "\n",
    "# Display the first few results of the game to confirm\n",
    "print(\"First 10 results of the alphabet game:\")\n",
    "print(alphabet_game.show('wide').head(10))\n"
   ]
  },
  {
   "cell_type": "markdown",
   "id": "3b9ff800-bf1f-4f66-9d7f-ff57a648e9f0",
   "metadata": {},
   "source": [
    "Task 3. Determine how many permutations in your results are actual English words, based on the vocabulary found in `scrabble_words.txt`.\n",
    "\n",
    "- Use permutation method (1).\n",
    "- Get count as difference between permutations and vocabulary (1)."
   ]
  },
  {
   "cell_type": "code",
   "execution_count": 19,
   "id": "ed1c7fa0-cfa3-4cf4-9fd0-9f84b86b0f64",
   "metadata": {},
   "outputs": [
    {
     "name": "stdout",
     "output_type": "stream",
     "text": [
      "Sample Scrabble words: ['manufacturing', 'semiflexible', 'sma', 'canalled', 'lezzas', 'phylloxeras', 'recut', 'zamboorak', 'beholdings', 'blurred']\n",
      "Sample permutations:\n",
      "    Permutation  Count\n",
      "0  (E, T, O, N)      2\n",
      "1  (E, A, A, R)      2\n",
      "2  (H, E, O, T)      2\n",
      "3  (N, R, A, R)      2\n",
      "4  (E, I, W, F)      1\n",
      "5  (R, H, T, B)      1\n",
      "6  (I, T, N, C)      1\n",
      "7  (E, A, O, U)      1\n",
      "8  (E, K, O, E)      1\n",
      "9  (P, E, R, R)      1\n",
      "Number of valid words found in the game results: 48\n",
      "Total permutations checked: 996\n",
      "Non-word permutations: 948\n"
     ]
    }
   ],
   "source": [
    "from montecarlo import Analyzer\n",
    "\n",
    "# Step 1: Load the Scrabble vocabulary\n",
    "with open('scrabble_words.txt', 'r') as f:\n",
    "    scrabble_words = set(line.strip().lower() for line in f)\n",
    "\n",
    "# Debugging: Print sample Scrabble words\n",
    "print(\"Sample Scrabble words:\", list(scrabble_words)[:10])\n",
    "\n",
    "# Step 2: Create an Analyzer object for the game\n",
    "alphabet_analyzer = Analyzer(alphabet_game)\n",
    "\n",
    "# Step 3: Generate permutations\n",
    "permutations = alphabet_analyzer.permutation_count()\n",
    "\n",
    "# Debugging: Print the structure of permutations\n",
    "print(\"Sample permutations:\")\n",
    "print(permutations.head(10))  # Adjust based on the data structure\n",
    "\n",
    "# Step 4: Count valid words\n",
    "valid_word_count = 0\n",
    "for row in permutations['Permutation']:  # Ensure the 'Permutation' column exists\n",
    "    # Convert the tuple of letters to a lowercase string\n",
    "    word = ''.join(row).lower()\n",
    "\n",
    "    # Check if the word is in the Scrabble vocabulary\n",
    "    if word in scrabble_words:\n",
    "        valid_word_count += 1\n",
    "\n",
    "# Compute non-word permutations\n",
    "non_word_count = len(permutations) - valid_word_count\n",
    "\n",
    "# Output the results\n",
    "print(f\"Number of valid words found in the game results: {valid_word_count}\")\n",
    "print(f\"Total permutations checked: {len(permutations)}\")\n",
    "print(f\"Non-word permutations: {non_word_count}\")\n"
   ]
  },
  {
   "cell_type": "markdown",
   "id": "fcf068cf-381a-4b3e-ac3a-0510eb4dbdb0",
   "metadata": {},
   "source": [
    "Task 4. Repeat steps #2 and #3, this time with $5$ dice. How many actual words does this produce? Which produces more?\n",
    "\n",
    "- Successfully repreats steps (1).\n",
    "- Identifies parameter with most found words (1)."
   ]
  },
  {
   "cell_type": "code",
   "execution_count": 22,
   "id": "a84a3a40-fde9-4ec2-b1cb-c329944be6a9",
   "metadata": {
    "jp-MarkdownHeadingCollapsed": true,
    "tags": []
   },
   "outputs": [
    {
     "name": "stdout",
     "output_type": "stream",
     "text": [
      "       Permutation  Count\n",
      "0  (A, O, E, A, O)      2\n",
      "1  (E, D, F, R, A)      1\n",
      "2  (V, S, U, I, O)      1\n",
      "3  (I, E, R, R, M)      1\n",
      "4  (E, D, H, E, I)      1\n",
      "Number of valid 5-letter Scrabble words found with 5 dice: 9\n",
      "Number of valid words found in subsets of 4 letters from 5 dice: 253\n"
     ]
    }
   ],
   "source": [
    "from montecarlo import Game, Analyzer\n",
    "from itertools import combinations\n",
    "\n",
    "# Load Scrabble vocabulary\n",
    "with open('scrabble_words.txt', 'r') as f:\n",
    "    scrabble_words = set(line.strip().lower() for line in f)\n",
    "\n",
    "# Initialize and play the 5-dice game\n",
    "five_alphabet_dice = [alphabet_die for _ in range(5)]\n",
    "five_dice_game = Game(five_alphabet_dice)\n",
    "five_dice_game.play(1000)\n",
    "\n",
    "# Analyze permutations from the 5-dice game\n",
    "five_dice_analyzer = Analyzer(five_dice_game)\n",
    "five_dice_permutations = five_dice_analyzer.permutation_count()\n",
    "\n",
    "# Debugging: Inspect the permutations DataFrame\n",
    "print(five_dice_permutations.head())\n",
    "\n",
    "# Count valid 5-letter Scrabble words from the permutations\n",
    "valid_5_letter_words = {word for word in scrabble_words if len(word) == 5}\n",
    "five_dice_valid_word_count = 0\n",
    "for row in five_dice_permutations['Permutation']:  # Access the 'Permutation' column\n",
    "    word = ''.join(row).lower()\n",
    "    if word in valid_5_letter_words:\n",
    "        five_dice_valid_word_count += 1\n",
    "\n",
    "print(f\"Number of valid 5-letter Scrabble words found with 5 dice: {five_dice_valid_word_count}\")\n",
    "\n",
    "# Analyze subsets of 4 letters from the permutations\n",
    "subset_word_count = 0\n",
    "for row in five_dice_permutations['Permutation']:  # Access the 'Permutation' column\n",
    "    for subset in combinations(row, 4):  # Generate all 4-letter subsets\n",
    "        word = ''.join(subset).lower()\n",
    "        if word in scrabble_words:\n",
    "            subset_word_count += 1\n",
    "\n",
    "print(f\"Number of valid words found in subsets of 4 letters from 5 dice: {subset_word_count}\")\n"
   ]
  },
  {
   "cell_type": "code",
   "execution_count": null,
   "id": "f4ae90af-caf3-4e99-b729-bc930653a786",
   "metadata": {},
   "outputs": [],
   "source": []
  }
 ],
 "metadata": {
  "kernelspec": {
   "display_name": "Python 3 (ipykernel)",
   "language": "python",
   "name": "python3"
  },
  "language_info": {
   "codemirror_mode": {
    "name": "ipython",
    "version": 3
   },
   "file_extension": ".py",
   "mimetype": "text/x-python",
   "name": "python",
   "nbconvert_exporter": "python",
   "pygments_lexer": "ipython3",
   "version": "3.11.4"
  },
  "toc-autonumbering": true,
  "widgets": {
   "application/vnd.jupyter.widget-state+json": {
    "state": {},
    "version_major": 2,
    "version_minor": 0
   }
  }
 },
 "nbformat": 4,
 "nbformat_minor": 5
}
